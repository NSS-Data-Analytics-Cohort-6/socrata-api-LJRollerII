{
 "cells": [
  {
   "cell_type": "code",
   "execution_count": null,
   "id": "6c9568a1",
   "metadata": {},
   "outputs": [],
   "source": [
    "import requests\n",
    "import matplotlib.pyplot as plt"
   ]
  },
  {
   "cell_type": "code",
   "execution_count": null,
   "id": "bf52d718",
   "metadata": {},
   "outputs": [],
   "source": [
    "import pandas as pd"
   ]
  },
  {
   "cell_type": "code",
   "execution_count": null,
   "id": "8d830169",
   "metadata": {},
   "outputs": [],
   "source": [
    "endpoint = 'https://data.nashville.gov/resource/fuaa-r5cm.json'\n",
    "response = requests.get(endpoint)"
   ]
  },
  {
   "cell_type": "code",
   "execution_count": null,
   "id": "563cc6c4",
   "metadata": {},
   "outputs": [],
   "source": [
    "response"
   ]
  },
  {
   "cell_type": "code",
   "execution_count": null,
   "id": "dc486a34",
   "metadata": {},
   "outputs": [],
   "source": [
    "response.text"
   ]
  },
  {
   "cell_type": "code",
   "execution_count": null,
   "id": "1605e82c",
   "metadata": {},
   "outputs": [],
   "source": [
    "res = response.json()\n",
    "res"
   ]
  },
  {
   "cell_type": "code",
   "execution_count": null,
   "id": "94631d46",
   "metadata": {},
   "outputs": [],
   "source": [
    "type(res)"
   ]
  },
  {
   "cell_type": "code",
   "execution_count": null,
   "id": "c06916fd",
   "metadata": {},
   "outputs": [],
   "source": [
    "len(res)"
   ]
  },
  {
   "cell_type": "markdown",
   "id": "f43bb618",
   "metadata": {},
   "source": [
    "Goal: Extract JSON from res try index position"
   ]
  },
  {
   "cell_type": "markdown",
   "id": "beb0aaca",
   "metadata": {},
   "source": [
    "1. Make an API request that returns the months where \"fire\" was searched in 2016. Which month had the most searches?"
   ]
  },
  {
   "cell_type": "code",
   "execution_count": null,
   "id": "a778afa6",
   "metadata": {},
   "outputs": [],
   "source": [
    "endpoint_2016 = 'https://data.nashville.gov/resource/fuaa-r5cm.json?query_text=fire&year=2016'\n",
    "response_2016 = requests.get(endpoint_2016)"
   ]
  },
  {
   "cell_type": "code",
   "execution_count": null,
   "id": "6d8c96b7",
   "metadata": {},
   "outputs": [],
   "source": [
    "response_2016"
   ]
  },
  {
   "cell_type": "code",
   "execution_count": null,
   "id": "d1747025",
   "metadata": {},
   "outputs": [],
   "source": [
    "response_2016.text"
   ]
  },
  {
   "cell_type": "code",
   "execution_count": null,
   "id": "c82c66d0",
   "metadata": {
    "scrolled": true
   },
   "outputs": [],
   "source": [
    "res2016 = response_2016.json()\n",
    "res2016"
   ]
  },
  {
   "cell_type": "markdown",
   "id": "932fa921",
   "metadata": {},
   "source": [
    "Answer: August was the month with the most searches"
   ]
  },
  {
   "cell_type": "markdown",
   "id": "6b2a7641",
   "metadata": {},
   "source": [
    "2.Make an API request that returns all the times a query was run more than 100 times in a month. How many times did this occur?"
   ]
  },
  {
   "cell_type": "code",
   "execution_count": null,
   "id": "188a9229",
   "metadata": {},
   "outputs": [],
   "source": [
    "endpoint_y100 = 'https://data.nashville.gov/resource/fuaa-r5cm.json?$where=query_count > 100&$limit=44000'\n",
    "response_100 = requests.get(endpoint_y100)"
   ]
  },
  {
   "cell_type": "code",
   "execution_count": null,
   "id": "3d321c12",
   "metadata": {},
   "outputs": [],
   "source": [
    "response_100"
   ]
  },
  {
   "cell_type": "code",
   "execution_count": null,
   "id": "143d4225",
   "metadata": {},
   "outputs": [],
   "source": [
    "response_100.text"
   ]
  },
  {
   "cell_type": "code",
   "execution_count": null,
   "id": "63cf6e40",
   "metadata": {},
   "outputs": [],
   "source": [
    "res100 = response_100.json()\n",
    "res100"
   ]
  },
  {
   "cell_type": "code",
   "execution_count": null,
   "id": "cd25ecdb",
   "metadata": {
    "scrolled": true
   },
   "outputs": [],
   "source": [
    "len(res100)"
   ]
  },
  {
   "cell_type": "markdown",
   "id": "522c529c",
   "metadata": {},
   "source": [
    "Answer: 1262"
   ]
  },
  {
   "cell_type": "markdown",
   "id": "1b62d56a",
   "metadata": {},
   "source": [
    "3. Make another API request that returns all the times \"codes\" was searched more than 100 times in a month. How many times did this occur?"
   ]
  },
  {
   "cell_type": "code",
   "execution_count": null,
   "id": "718ae982",
   "metadata": {},
   "outputs": [],
   "source": [
    "endpoint_code = 'https://data.nashville.gov/resource/fuaa-r5cm.json?$where=query_count > 100&query_text=codes'\n",
    "response_code = requests.get(endpoint_code)"
   ]
  },
  {
   "cell_type": "code",
   "execution_count": null,
   "id": "2eef74bd",
   "metadata": {},
   "outputs": [],
   "source": [
    "response_code"
   ]
  },
  {
   "cell_type": "code",
   "execution_count": null,
   "id": "6163a9db",
   "metadata": {},
   "outputs": [],
   "source": [
    "response_code.text"
   ]
  },
  {
   "cell_type": "code",
   "execution_count": null,
   "id": "ba10d7ac",
   "metadata": {},
   "outputs": [],
   "source": [
    "rescode = response_code.json()\n",
    "rescode"
   ]
  },
  {
   "cell_type": "code",
   "execution_count": null,
   "id": "31a5ba4c",
   "metadata": {},
   "outputs": [],
   "source": [
    "len(rescode)"
   ]
  },
  {
   "cell_type": "markdown",
   "id": "b5101260",
   "metadata": {},
   "source": [
    "Answer: 56"
   ]
  },
  {
   "cell_type": "markdown",
   "id": "2b39337b",
   "metadata": {},
   "source": [
    "4. Make an API request that returns the entire Top 500 Monthly Searches dataset. Make a chart that shows the number of times \"maps\" was searched in a month across the entire time frame."
   ]
  },
  {
   "cell_type": "code",
   "execution_count": null,
   "id": "6e0e39fb",
   "metadata": {},
   "outputs": [],
   "source": [
    "endpoint_tms = 'https://data.nashville.gov/resource/fuaa-r5cm.json?$select=month_name,SUM(query_count)&query_text=maps&$group=month_name&$order=SUM(query_count) DESC'\n",
    "response_tms = requests.get(endpoint_tms)"
   ]
  },
  {
   "cell_type": "code",
   "execution_count": null,
   "id": "a2beb5e1",
   "metadata": {},
   "outputs": [],
   "source": [
    "response_tms"
   ]
  },
  {
   "cell_type": "code",
   "execution_count": null,
   "id": "7f799b84",
   "metadata": {},
   "outputs": [],
   "source": [
    "response_tms.text"
   ]
  },
  {
   "cell_type": "code",
   "execution_count": null,
   "id": "ff488e5b",
   "metadata": {
    "scrolled": true
   },
   "outputs": [],
   "source": [
    "restms = response_tms.json()\n",
    "restms"
   ]
  },
  {
   "cell_type": "markdown",
   "id": "108eabc4",
   "metadata": {},
   "source": [
    "Answer to the question is in the code/output above. Going to look at len just to see."
   ]
  },
  {
   "cell_type": "code",
   "execution_count": null,
   "id": "87c9354e",
   "metadata": {},
   "outputs": [],
   "source": [
    "len(restms)"
   ]
  },
  {
   "cell_type": "markdown",
   "id": "54c35aac",
   "metadata": {},
   "source": [
    "Stretch Questions"
   ]
  },
  {
   "cell_type": "markdown",
   "id": "d95a37e0",
   "metadata": {},
   "source": [
    "5. Make an API request to pull back all the data from hubNashville (311) Service Requests (check to see how many rows you can return in a single request). Compare it to the Top 500 Monthly Searches data set. What do you observe? (This is open-ended, there isn't a specific answer for this one)"
   ]
  },
  {
   "cell_type": "code",
   "execution_count": null,
   "id": "a90e4d03",
   "metadata": {},
   "outputs": [],
   "source": [
    "endpoint_hub = 'https://data.nashville.gov/resource/7qhx-rexh.json'\n",
    "response_hub = requests.get(endpoint_hub) \n",
    "reshub = response_hub.json()\n",
    "reshub_df = pd.DataFrame(reshub) \n",
    "reshub_df"
   ]
  },
  {
   "cell_type": "code",
   "execution_count": null,
   "id": "67a70685",
   "metadata": {},
   "outputs": [],
   "source": [
    "len(reshub)"
   ]
  },
  {
   "cell_type": "code",
   "execution_count": null,
   "id": "f5ab83a0",
   "metadata": {},
   "outputs": [],
   "source": [
    "len(response_hub.text)"
   ]
  },
  {
   "cell_type": "markdown",
   "id": "01521373",
   "metadata": {},
   "source": [
    "Comparing Hub Nashville to Top 500 Searches"
   ]
  },
  {
   "cell_type": "code",
   "execution_count": null,
   "id": "ea7d7881",
   "metadata": {},
   "outputs": [],
   "source": [
    "res_df = pd.DataFrame(res)\n",
    "res_df"
   ]
  },
  {
   "cell_type": "code",
   "execution_count": null,
   "id": "0bc1916f",
   "metadata": {},
   "outputs": [],
   "source": [
    "len(response.text)"
   ]
  },
  {
   "cell_type": "markdown",
   "id": "81e04082",
   "metadata": {},
   "source": [
    "Alternative Method to get answer from disscussion in class (For future reference)."
   ]
  },
  {
   "cell_type": "code",
   "execution_count": null,
   "id": "cd361a5c",
   "metadata": {
    "scrolled": true
   },
   "outputs": [],
   "source": [
    "hub_df = pd.DataFrame()\n",
    "\n",
    "\n",
    "for n in range(0, 1000001, 50000):\n",
    "    end_hub = 'https://data.nashville.gov/resource/7qhx-rexh.json?$limit=50000&$offset=' + str(n)\n",
    "    print(end_hub)\n",
    "    res_hub = requests.get(end_hub).json()\n",
    "    print(len(res_hub))\n",
    "    df = pd.DataFrame.from_dict(res_hub)\n",
    "    print(df.shape)\n",
    "    hub_df = pd.concat([hub_df, df], ignore_index = True)\n",
    "    print(hub_df.shape)\n",
    "    print(n)\n",
    "    \n",
    "hub_df.head()"
   ]
  },
  {
   "cell_type": "code",
   "execution_count": null,
   "id": "8105f057",
   "metadata": {},
   "outputs": [],
   "source": [
    "hub_df.shape"
   ]
  },
  {
   "cell_type": "code",
   "execution_count": null,
   "id": "00171b96",
   "metadata": {},
   "outputs": [],
   "source": [
    "end_hub2 = 'https://data.nashville.gov/resource/7qhx-rexh.json?$limit=100000000000'\n",
    "res_hub2 = requests.get(end_hub2).json()\n",
    "df = pd.DataFrame.from_dict(res_hub2)"
   ]
  },
  {
   "cell_type": "code",
   "execution_count": null,
   "id": "03339b9e",
   "metadata": {},
   "outputs": [],
   "source": [
    "df.shape"
   ]
  },
  {
   "cell_type": "code",
   "execution_count": null,
   "id": "a6febe2f",
   "metadata": {},
   "outputs": [],
   "source": [
    "df.head()"
   ]
  },
  {
   "cell_type": "markdown",
   "id": "a98ef4eb",
   "metadata": {},
   "source": [
    "Observation: Hub Nashville has more data than the Top 500 searches."
   ]
  },
  {
   "cell_type": "markdown",
   "id": "2f80b010",
   "metadata": {},
   "source": [
    "6. Find 2 new data sets on data.nashville.gov, make API requests to pull the data, and do an analysis that combines the data sets."
   ]
  },
  {
   "cell_type": "code",
   "execution_count": null,
   "id": "d6794828",
   "metadata": {},
   "outputs": [],
   "source": [
    "endpoint_soil = 'https://data.nashville.gov/resource/2gm3-g42r.json'\n",
    "response_soil = requests.get(endpoint_soil) \n",
    "ressoil = response_soil.json()\n",
    "ressoil_df = pd.DataFrame(ressoil) \n",
    "ressoil_df"
   ]
  },
  {
   "cell_type": "code",
   "execution_count": null,
   "id": "863467ac",
   "metadata": {},
   "outputs": [],
   "source": [
    "endpoint_bp = 'https://data.nashville.gov/resource/kqff-rxj8.json'\n",
    "response_bp = requests.get(endpoint_bp) \n",
    "res_bp = response_bp.json()\n",
    "resbp_df = pd.DataFrame(res_bp) \n",
    "resbp_df"
   ]
  },
  {
   "cell_type": "markdown",
   "id": "2eb20d9b",
   "metadata": {},
   "source": [
    "Let's try some other datasets instead of the previous two"
   ]
  },
  {
   "cell_type": "code",
   "execution_count": null,
   "id": "395c5161",
   "metadata": {
    "scrolled": true
   },
   "outputs": [],
   "source": [
    "endpoint_tornado = 'https://data.nashville.gov/resource/736j-2drk.json'\n",
    "response_tornado = requests.get(endpoint_tornado) \n",
    "res_t = response_tornado.json()\n",
    "rest_df = pd.DataFrame(res_t) \n",
    "rest_df"
   ]
  },
  {
   "cell_type": "code",
   "execution_count": null,
   "id": "fb560192",
   "metadata": {},
   "outputs": [],
   "source": [
    "rest_df.columns = ['site_name','street_address','city','zip_code','siren_power','mapped_location',':@computed_region_gisn_y5cm',':@computed_region_sjpq_96s8',':@computed_region_v3ji_vzam',':@computed_region_c9xn_skx3',':@computed_region_f73m_vb2k',':@computed_region_cfa7_hbpz']"
   ]
  },
  {
   "cell_type": "code",
   "execution_count": null,
   "id": "b77d83c3",
   "metadata": {},
   "outputs": [],
   "source": [
    "rest_df.head()"
   ]
  },
  {
   "cell_type": "code",
   "execution_count": null,
   "id": "dc9ecd52",
   "metadata": {
    "scrolled": true
   },
   "outputs": [],
   "source": [
    "endpoint_wifi = 'https://data.nashville.gov/resource/4ugp-s85t.json'\n",
    "response_wifi = requests.get(endpoint_wifi) \n",
    "res_wifi = response_wifi.json()\n",
    "reswifi_df = pd.DataFrame(res_wifi) \n",
    "reswifi_df"
   ]
  },
  {
   "cell_type": "markdown",
   "id": "5fcbcfcd",
   "metadata": {},
   "source": [
    "Let's merge these two datasets (Torandos & Wifi)"
   ]
  },
  {
   "cell_type": "code",
   "execution_count": null,
   "id": "9dca793e",
   "metadata": {},
   "outputs": [],
   "source": [
    "tornado_wifi = pd.merge(rest_df,reswifi_df, on=['site_name','street_address','city','zip_code',':@computed_region_gisn_y5cm',':@computed_region_sjpq_96s8',':@computed_region_v3ji_vzam',':@computed_region_c9xn_skx3',':@computed_region_f73m_vb2k',':@computed_region_cfa7_hbpz'],how='outer')"
   ]
  },
  {
   "cell_type": "code",
   "execution_count": null,
   "id": "eeacfd05",
   "metadata": {},
   "outputs": [],
   "source": [
    "tornado_wifi"
   ]
  },
  {
   "cell_type": "code",
   "execution_count": null,
   "id": "d697b82f",
   "metadata": {},
   "outputs": [],
   "source": []
  }
 ],
 "metadata": {
  "kernelspec": {
   "display_name": "Python 3 (ipykernel)",
   "language": "python",
   "name": "python3"
  },
  "language_info": {
   "codemirror_mode": {
    "name": "ipython",
    "version": 3
   },
   "file_extension": ".py",
   "mimetype": "text/x-python",
   "name": "python",
   "nbconvert_exporter": "python",
   "pygments_lexer": "ipython3",
   "version": "3.9.7"
  }
 },
 "nbformat": 4,
 "nbformat_minor": 5
}
